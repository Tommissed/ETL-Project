{
 "cells": [
  {
   "cell_type": "code",
   "execution_count": 13,
   "metadata": {},
   "outputs": [],
   "source": [
    "import sqlite3, csv\n",
    "import pandas as pd\n"
   ]
  },
  {
   "cell_type": "code",
   "execution_count": 8,
   "metadata": {},
   "outputs": [
    {
     "data": {
      "text/plain": [
       "<sqlite3.Cursor at 0x1132d35e0>"
      ]
     },
     "execution_count": 8,
     "metadata": {},
     "output_type": "execute_result"
    }
   ],
   "source": [
    "connection = sqlite3.connect(\"spotify.db\")\n",
    "cursor = connection.cursor()\n",
    "\n",
    "cursor.execute(\"CREATE TABLE genre(Genre_ID, Top Genre)\")"
   ]
  },
  {
   "cell_type": "code",
   "execution_count": 9,
   "metadata": {},
   "outputs": [
    {
     "data": {
      "text/plain": [
       "('genre',)"
      ]
     },
     "execution_count": 9,
     "metadata": {},
     "output_type": "execute_result"
    }
   ],
   "source": [
    "response = cursor.execute(\"SELECT name FROM sqlite_master\")\n",
    "response.fetchone()"
   ]
  },
  {
   "cell_type": "code",
   "execution_count": 10,
   "metadata": {},
   "outputs": [
    {
     "name": "stdout",
     "output_type": "stream",
     "text": [
      "\n",
      "150 Records Transferred\n"
     ]
    }
   ],
   "source": [
    "with open ('Genre_Table_No_Index.csv', 'r') as file:\n",
    "    no_records = 0\n",
    "    for row in file:\n",
    "        cursor.execute(\"INSERT INTO genre VALUES (?,?)\", row.split(\",\"))\n",
    "        connection.commit()\n",
    "        no_records += 1\n",
    "#connection.close()\n",
    "print('\\n{} Records Transferred'.format(no_records))"
   ]
  },
  {
   "cell_type": "code",
   "execution_count": 17,
   "metadata": {},
   "outputs": [
    {
     "data": {
      "text/plain": [
       "[('Genre_ID', 'Top Genre\\n'),\n",
       " ('0', 'adult standards\\n'),\n",
       " ('1', 'album rock\\n'),\n",
       " ('2', 'alternative hip hop\\n'),\n",
       " ('3', 'alternative metal\\n'),\n",
       " ('4', 'classic rock\\n'),\n",
       " ('5', 'alternative pop rock\\n'),\n",
       " ('6', 'pop\\n'),\n",
       " ('7', 'modern rock\\n'),\n",
       " ('8', 'detroit hip hop\\n'),\n",
       " ('9', 'alternative rock\\n'),\n",
       " ('10', 'dutch indie\\n'),\n",
       " ('11', 'garage rock\\n'),\n",
       " ('12', 'dutch cabaret\\n'),\n",
       " ('13', 'permanent wave\\n'),\n",
       " ('14', 'classic uk pop\\n'),\n",
       " ('15', 'dance pop\\n'),\n",
       " ('16', 'modern folk rock\\n'),\n",
       " ('17', 'dutch pop\\n'),\n",
       " ('18', 'dutch americana\\n'),\n",
       " ('19', 'alternative dance\\n'),\n",
       " ('20', 'german pop\\n'),\n",
       " ('21', 'afropop\\n'),\n",
       " ('22', 'british soul\\n'),\n",
       " ('23', 'irish rock\\n'),\n",
       " ('24', 'disco\\n'),\n",
       " ('25', 'big room\\n'),\n",
       " ('26', 'art rock\\n'),\n",
       " ('27', 'danish pop rock\\n'),\n",
       " ('28', 'neo mellow\\n'),\n",
       " ('29', 'britpop\\n'),\n",
       " ('30', 'boy band\\n'),\n",
       " ('31', 'carnaval limburg\\n'),\n",
       " ('32', 'arkansas country\\n'),\n",
       " ('33', 'latin alternative\\n'),\n",
       " ('34', 'british folk\\n'),\n",
       " ('35', 'celtic\\n'),\n",
       " ('36', 'chanson\\n'),\n",
       " ('37', 'celtic rock\\n'),\n",
       " ('38', 'hip pop\\n'),\n",
       " ('39', 'east coast hip hop\\n'),\n",
       " ('40', 'dutch rock\\n'),\n",
       " ('41', 'blues rock\\n'),\n",
       " ('42', 'electro\\n'),\n",
       " ('43', 'australian pop\\n'),\n",
       " ('44', 'belgian rock\\n'),\n",
       " ('45', 'downtempo\\n'),\n",
       " ('46', 'reggae fusion\\n'),\n",
       " ('47', 'british invasion\\n'),\n",
       " ('48', 'finnish metal\\n'),\n",
       " ('49', 'canadian pop\\n'),\n",
       " ('50', 'bow pop\\n'),\n",
       " ('51', 'dutch hip hop\\n'),\n",
       " ('52', 'dutch metal\\n'),\n",
       " ('53', 'soft rock\\n'),\n",
       " ('54', 'acoustic pop\\n'),\n",
       " ('55', 'acid jazz\\n'),\n",
       " ('56', 'dutch prog\\n'),\n",
       " ('57', 'candy pop\\n'),\n",
       " ('58', 'operatic pop\\n'),\n",
       " ('59', 'trance\\n'),\n",
       " ('60', 'scottish singer-songwriter\\n'),\n",
       " ('61', 'mellow gold\\n'),\n",
       " ('62', 'alternative pop\\n'),\n",
       " ('63', 'dance rock\\n'),\n",
       " ('64', 'atl hip hop\\n'),\n",
       " ('65', 'eurodance\\n'),\n",
       " ('66', 'blues\\n'),\n",
       " ('67', 'canadian folk\\n'),\n",
       " ('68', 'big beat\\n'),\n",
       " ('69', 'art pop\\n'),\n",
       " ('70', 'uk pop\\n'),\n",
       " ('71', 'glam metal\\n'),\n",
       " ('72', 'brill building pop\\n'),\n",
       " ('73', 'g funk\\n'),\n",
       " ('74', 'happy hardcore\\n'),\n",
       " ('75', 'belgian pop\\n'),\n",
       " ('76', 'classic schlager\\n'),\n",
       " ('77', 'contemporary country\\n'),\n",
       " ('78', 'barbadian pop\\n'),\n",
       " ('79', 'gabba\\n'),\n",
       " ('80', 'chamber pop\\n'),\n",
       " ('81', 'british singer-songwriter\\n'),\n",
       " ('82', 'indie pop\\n'),\n",
       " ('83', 'australian rock\\n'),\n",
       " ('84', 'nederpop\\n'),\n",
       " ('85', 'australian indie folk\\n'),\n",
       " ('86', 'folk-pop\\n'),\n",
       " ('87', 'electropop\\n'),\n",
       " ('88', 'edm\\n'),\n",
       " ('89', 'metropopolis\\n'),\n",
       " ('90', 'irish pop\\n'),\n",
       " ('91', 'electronica\\n'),\n",
       " ('92', 'alaska indie\\n'),\n",
       " ('93', 'irish singer-songwriter\\n'),\n",
       " ('94', 'stomp and holler\\n'),\n",
       " ('95', 'australian dance\\n'),\n",
       " ('96', 'australian psych\\n'),\n",
       " ('97', 'laboratorio\\n'),\n",
       " ('98', 'contemporary vocal jazz\\n'),\n",
       " ('99', 'rock-and-roll\\n'),\n",
       " ('100', 'glam rock\\n'),\n",
       " ('101', 'classic soundtrack\\n'),\n",
       " ('102', 'icelandic indie\\n'),\n",
       " ('103', 'danish pop\\n'),\n",
       " ('104', 'compositional ambient\\n'),\n",
       " ('105', 'neo soul\\n'),\n",
       " ('106', 'streektaal\\n'),\n",
       " ('107', 'italian pop\\n'),\n",
       " ('108', 'indie anthem-folk\\n'),\n",
       " ('109', 'la pop\\n'),\n",
       " ('110', 'baroque pop\\n'),\n",
       " ('111', 'ccm\\n'),\n",
       " ('112', 'electro house\\n'),\n",
       " ('113', 'austropop\\n'),\n",
       " ('114', 'australian americana\\n'),\n",
       " ('115', 'latin\\n'),\n",
       " ('116', 'chicago soul\\n'),\n",
       " ('117', 'classic soul\\n'),\n",
       " ('118', 'bubblegum pop\\n'),\n",
       " ('119', 'classic country pop\\n'),\n",
       " ('120', 'europop\\n'),\n",
       " ('121', 'hard rock\\n'),\n",
       " ('122', 'reggae\\n'),\n",
       " ('123', 'j-core\\n'),\n",
       " ('124', 'funk\\n'),\n",
       " ('125', 'folk\\n'),\n",
       " ('126', 'punk\\n'),\n",
       " ('127', 'basshall\\n'),\n",
       " ('128', 'australian alternative rock\\n'),\n",
       " ('129', 'yacht rock\\n'),\n",
       " ('130', 'alternative country\\n'),\n",
       " ('131', 'celtic punk\\n'),\n",
       " ('132', 'new wave pop\\n'),\n",
       " ('133', 'classic canadian rock\\n'),\n",
       " ('134', 'christelijk\\n'),\n",
       " ('135', 'levenslied\\n'),\n",
       " ('136', 'cyberpunk\\n'),\n",
       " ('137', 'gangster rap\\n'),\n",
       " ('138', 'diva house\\n'),\n",
       " ('139', 'classical rock\\n'),\n",
       " ('140', 'canadian rock\\n'),\n",
       " ('141', 'german pop rock\\n'),\n",
       " ('142', 'british alternative rock\\n'),\n",
       " ('143', 'latin jazz\\n'),\n",
       " ('144', 'german alternative rock\\n'),\n",
       " ('145', 'classic italian pop\\n'),\n",
       " ('146', 'pop punk\\n'),\n",
       " ('147', 'motown\\n'),\n",
       " ('148', 'bebop')]"
      ]
     },
     "execution_count": 17,
     "metadata": {},
     "output_type": "execute_result"
    }
   ],
   "source": [
    "response = cursor.execute(\"SELECT * FROM genre\")\n",
    "response.fetchall()"
   ]
  },
  {
   "cell_type": "code",
   "execution_count": null,
   "metadata": {},
   "outputs": [],
   "source": []
  }
 ],
 "metadata": {
  "kernelspec": {
   "display_name": "Python 3.8.2 64-bit",
   "language": "python",
   "name": "python3"
  },
  "language_info": {
   "codemirror_mode": {
    "name": "ipython",
    "version": 3
   },
   "file_extension": ".py",
   "mimetype": "text/x-python",
   "name": "python",
   "nbconvert_exporter": "python",
   "pygments_lexer": "ipython3",
   "version": "3.8.2"
  },
  "orig_nbformat": 4,
  "vscode": {
   "interpreter": {
    "hash": "31f2aee4e71d21fbe5cf8b01ff0e069b9275f58929596ceb00d14d90e3e16cd6"
   }
  }
 },
 "nbformat": 4,
 "nbformat_minor": 2
}
